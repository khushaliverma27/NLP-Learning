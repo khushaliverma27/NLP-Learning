{
 "cells": [
  {
   "cell_type": "markdown",
   "metadata": {},
   "source": [
    "# Twitter Data Generation"
   ]
  },
  {
   "cell_type": "code",
   "execution_count": 1,
   "metadata": {},
   "outputs": [],
   "source": [
    "from tweepy import Stream\n",
    "from tweepy import OAuthHandler\n",
    "from tweepy.streaming import StreamListener\n",
    "import json\n",
    "import pandas as pd\n",
    "import csv\n",
    "import re\n",
    "import tweepy\n",
    "import os"
   ]
  },
  {
   "cell_type": "code",
   "execution_count": 2,
   "metadata": {},
   "outputs": [],
   "source": [
    "consumer_key = \"pX2ACTS5axpjUaBX2pC0k83MB\"\n",
    "consumer_secret = \"HeHsDOQLsDh43Uh0Kwi28bxMIhea7WARmeTdhSu41ECb5OSeaX\"\n",
    "access_key = \"1195091630417534976-X0ru8CcHqmx6mNsinUkNO2wHYnMFzD\"\n",
    "access_secret = \"6ZXAJM6xHWu89UKdG9jX60enOjUeUrTjcRVTvjsAQ2udQ\""
   ]
  },
  {
   "cell_type": "code",
   "execution_count": 3,
   "metadata": {},
   "outputs": [],
   "source": [
    "auth = tweepy.OAuthHandler(consumer_key, consumer_secret)\n",
    "auth.set_access_token(access_key, access_secret)\n",
    "api = tweepy.API(auth, wait_on_rate_limit=True)"
   ]
  },
  {
   "cell_type": "code",
   "execution_count": 4,
   "metadata": {},
   "outputs": [],
   "source": [
    "csv1 = open(r'.\\data\\covid19.csv', 'w', encoding='utf-8')\n",
    "csv2 = open(r'.\\data\\china.csv', 'w', encoding='utf-8')"
   ]
  },
  {
   "cell_type": "code",
   "execution_count": 5,
   "metadata": {},
   "outputs": [],
   "source": [
    "csvWriter1 = csv.writer(csv1)\n",
    "csvWriter2 = csv.writer(csv2)"
   ]
  },
  {
   "cell_type": "code",
   "execution_count": null,
   "metadata": {},
   "outputs": [],
   "source": [
    "for tweet in tweepy.Cursor(api.search, q=\"#Covid19\", count=5000, lang='en').items():\n",
    "    csvWriter1.writerow([tweet.id, tweet.created_at, tweet.source, tweet.text, tweet.user.screen_name, tweet.favorite_count, tweet.retweet_count, tweet.place])"
   ]
  },
  {
   "cell_type": "code",
   "execution_count": 6,
   "metadata": {},
   "outputs": [],
   "source": [
    "for tweet in tweepy.Cursor(api.search, q=\"#IndiavsChina\", count=1000, lang='en').items():\n",
    "    csvWriter2.writerow([tweet.id, tweet.created_at, tweet.source, tweet.text, tweet.user.screen_name, tweet.favorite_count, tweet.retweet_count, tweet.place])"
   ]
  },
  {
   "cell_type": "code",
   "execution_count": 7,
   "metadata": {},
   "outputs": [],
   "source": [
    "def make_json(csvFilePath, jsonFilePath):\n",
    "    data = {}\n",
    "    with open(csvFilePath) as csvf:\n",
    "        csvReader = csv.DictReader(csvf)\n",
    "        for rows in csvReader:\n",
    "            id = rows['id']\n",
    "            data[id] = rows\n",
    "            \n",
    "    with open(jsonFilePath, 'w') as jsonf:\n",
    "        jsonf.write(json.dumps(data, indent = 4))\n",
    "        \n",
    "covid_json = r'.\\data\\covid19.json'\n",
    "china_json = r'.\\data\\china.json'\n",
    "\n",
    "covid_csv = r'.\\data\\covid19.csv'\n",
    "china_csv = r'.\\data\\china.csv'"
   ]
  },
  {
   "cell_type": "code",
   "execution_count": null,
   "metadata": {},
   "outputs": [],
   "source": [
    "make_json(covid_csv, covid_json)\n",
    "make_json(china_csv, china_json)"
   ]
  }
 ],
 "metadata": {
  "kernelspec": {
   "display_name": "Python 3",
   "language": "python",
   "name": "python3"
  },
  "language_info": {
   "codemirror_mode": {
    "name": "ipython",
    "version": 3
   },
   "file_extension": ".py",
   "mimetype": "text/x-python",
   "name": "python",
   "nbconvert_exporter": "python",
   "pygments_lexer": "ipython3",
   "version": "3.7.4"
  }
 },
 "nbformat": 4,
 "nbformat_minor": 2
}
